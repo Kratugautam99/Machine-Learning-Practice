{
 "cells": [
  {
   "cell_type": "code",
   "execution_count": 14,
   "metadata": {
    "executionInfo": {
     "elapsed": 420,
     "status": "ok",
     "timestamp": 1723057688536,
     "user": {
      "displayName": "Kratu Gautam",
      "userId": "09500188222743685239"
     },
     "user_tz": -330
    },
    "id": "NMVp_npmJ3xG"
   },
   "outputs": [],
   "source": [
    "from sklearn.linear_model import LogisticRegression\n",
    "from sklearn.model_selection import train_test_split\n",
    "from sklearn.model_selection import StratifiedKFold\n",
    "from sklearn.model_selection import cross_val_score\n",
    "from sklearn.svm import SVC\n",
    "from sklearn.ensemble import RandomForestClassifier\n",
    "import numpy as np\n",
    "from sklearn.datasets import load_iris\n",
    "import matplotlib.pyplot as plt\n",
    "iris = load_iris()"
   ]
  },
  {
   "cell_type": "code",
   "execution_count": null,
   "metadata": {
    "colab": {
     "base_uri": "https://localhost:8080/"
    },
    "executionInfo": {
     "elapsed": 719,
     "status": "ok",
     "timestamp": 1723057689737,
     "user": {
      "displayName": "Kratu Gautam",
      "userId": "09500188222743685239"
     },
     "user_tz": -330
    },
    "id": "YyIqdeSNK7tx",
    "outputId": "9b5cdcfb-fb7f-4ca9-89cd-d2ea9254130f"
   },
   "outputs": [
    {
     "name": "stderr",
     "output_type": "stream",
     "text": [
      "/usr/local/lib/python3.10/dist-packages/sklearn/linear_model/_logistic.py:460: ConvergenceWarning: lbfgs failed to converge (status=1):\n",
      "STOP: TOTAL NO. of ITERATIONS REACHED LIMIT.\n",
      "\n",
      "Increase the number of iterations (max_iter) or scale the data as shown in:\n",
      "    https://scikit-learn.org/stable/modules/preprocessing.html\n",
      "Please also refer to the documentation for alternative solver options:\n",
      "    https://scikit-learn.org/stable/modules/linear_model.html#logistic-regression\n",
      "  n_iter_i = _check_optimize_result(\n"
     ]
    },
    {
     "name": "stdout",
     "output_type": "stream",
     "text": [
      "[0.98, 0.96, 0.98]\n",
      "[0.96, 0.98, 0.94]\n",
      "[0.98, 0.94, 0.98]\n"
     ]
    }
   ],
   "source": [
    "#Understanding how cross_val_score works\n",
    "def model_score(model,x_train,x_test,y_train,y_test):\n",
    "    model.fit(x_train,y_train)\n",
    "    return model.score(x_test,y_test)\n",
    "folds = StratifiedKFold(n_splits=3)\n",
    "array_LogR = []\n",
    "array_svc = []\n",
    "array_rfc = []\n",
    "for train_index, test_index in folds.split(iris.data,iris.target):\n",
    "  x_train, x_test, y_train, y_test = iris.data[train_index], iris.data[test_index], iris.target[train_index], iris.target[test_index]\n",
    "  array_LogR.append(model_score(LogisticRegression(),x_train,x_test,y_train,y_test))\n",
    "  array_svc.append(model_score(SVC(),x_train,x_test,y_train,y_test))\n",
    "  array_rfc.append(model_score(RandomForestClassifier(),x_train,x_test,y_train,y_test))\n",
    "print(array_LogR)\n",
    "print(array_svc)\n",
    "print(array_rfc)"
   ]
  },
  {
   "cell_type": "code",
   "execution_count": 18,
   "metadata": {
    "colab": {
     "base_uri": "https://localhost:8080/"
    },
    "executionInfo": {
     "elapsed": 1221,
     "status": "ok",
     "timestamp": 1723057968891,
     "user": {
      "displayName": "Kratu Gautam",
      "userId": "09500188222743685239"
     },
     "user_tz": -330
    },
    "id": "TnpJhkkLPCYY",
    "outputId": "344ded3d-7777-437e-8ec2-7dc226d7a46f"
   },
   "outputs": [
    {
     "name": "stderr",
     "output_type": "stream",
     "text": [
      "/usr/local/lib/python3.10/dist-packages/sklearn/linear_model/_logistic.py:460: ConvergenceWarning: lbfgs failed to converge (status=1):\n",
      "STOP: TOTAL NO. of ITERATIONS REACHED LIMIT.\n",
      "\n",
      "Increase the number of iterations (max_iter) or scale the data as shown in:\n",
      "    https://scikit-learn.org/stable/modules/preprocessing.html\n",
      "Please also refer to the documentation for alternative solver options:\n",
      "    https://scikit-learn.org/stable/modules/linear_model.html#logistic-regression\n",
      "  n_iter_i = _check_optimize_result(\n"
     ]
    },
    {
     "name": "stdout",
     "output_type": "stream",
     "text": [
      "[0.98 0.96 0.98]\n",
      "[0.96 0.98 0.94]\n",
      "[0.98 0.94 0.98]\n"
     ]
    }
   ],
   "source": [
    "#Using cross_val_score\n",
    "print(cross_val_score(LogisticRegression(),iris.data,iris.target,cv=3, scoring='accuracy'))\n",
    "print(cross_val_score(SVC(),iris.data,iris.target,cv=3, scoring='accuracy'))\n",
    "print(cross_val_score(RandomForestClassifier(),iris.data,iris.target,cv=3, scoring='accuracy'))"
   ]
  }
 ],
 "metadata": {
  "colab": {
   "authorship_tag": "ABX9TyMUfhYa3xV2Op5xMEaWfSTU",
   "provenance": []
  },
  "kernelspec": {
   "display_name": "Python 3",
   "name": "python3"
  },
  "language_info": {
   "name": "python"
  }
 },
 "nbformat": 4,
 "nbformat_minor": 0
}
